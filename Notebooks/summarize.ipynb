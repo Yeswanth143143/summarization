{
 "cells": [
  {
   "cell_type": "code",
   "execution_count": 1,
   "metadata": {},
   "outputs": [],
   "source": [
    "import os"
   ]
  },
  {
   "cell_type": "code",
   "execution_count": 2,
   "metadata": {},
   "outputs": [],
   "source": [
    "from dotenv import load_dotenv"
   ]
  },
  {
   "cell_type": "code",
   "execution_count": 3,
   "metadata": {},
   "outputs": [],
   "source": [
    "api_key=os.getenv(\"OPENAI_KEY\")"
   ]
  },
  {
   "cell_type": "code",
   "execution_count": 47,
   "metadata": {},
   "outputs": [],
   "source": [
    "from langchain_openai import ChatOpenAI\n",
    "from langchain_core.prompts import ChatPromptTemplate\n",
    "from langchain.chains.combine_documents import create_stuff_documents_chain\n",
    "from langchain_community.document_loaders import WebBaseLoader\n",
    "from langchain_core.language_models.llms import LLM\n",
    "import tiktoken"
   ]
  },
  {
   "cell_type": "code",
   "execution_count": 26,
   "metadata": {},
   "outputs": [],
   "source": [
    "llm=ChatOpenAI(api_key=api_key,model=\"gpt-3.5-turbo\",max_tokens=500)"
   ]
  },
  {
   "cell_type": "code",
   "execution_count": 6,
   "metadata": {},
   "outputs": [],
   "source": [
    "prompt=ChatPromptTemplate.from_messages([('system','you are an expert in Summarization. Summarize the content in brackets {context}')])"
   ]
  },
  {
   "cell_type": "code",
   "execution_count": 27,
   "metadata": {},
   "outputs": [],
   "source": [
    "chain=create_stuff_documents_chain(llm,prompt)"
   ]
  },
  {
   "cell_type": "code",
   "execution_count": 22,
   "metadata": {},
   "outputs": [],
   "source": [
    "def loader(url):\n",
    "    loader=WebBaseLoader(url)\n",
    "    docs=loader.load()\n",
    "    return docs"
   ]
  },
  {
   "cell_type": "code",
   "execution_count": 29,
   "metadata": {},
   "outputs": [],
   "source": [
    "results=loader(\"https://pypi.org/project/beautifulsoup4/\")"
   ]
  },
  {
   "cell_type": "code",
   "execution_count": 30,
   "metadata": {},
   "outputs": [
    {
     "data": {
      "text/plain": [
       "[Document(metadata={'source': 'https://pypi.org/project/beautifulsoup4/', 'title': 'beautifulsoup4 · PyPI', 'description': 'Screen-scraping library', 'language': 'en'}, page_content='\\n\\n\\n\\n\\n\\n\\n\\n\\nbeautifulsoup4 · PyPI\\n\\n\\n\\n\\n\\n\\n\\n\\n\\n\\n \\n\\n\\n\\n\\n\\n\\n\\n\\n\\n\\n\\n\\n\\n\\n\\n\\n\\nSkip to main content\\n\\nSwitch to mobile version    \\n\\n\\n\\n\\n\\n\\n\\nWarning\\n\\nSome features may not work without JavaScript. Please try enabling it if you encounter problems.\\n\\n\\n \\n\\n\\n\\n\\n\\n\\n\\n\\n\\n\\n\\n\\nSearch PyPI\\n\\n\\n\\nSearch\\n\\n\\n\\n \\n\\n\\nHelp\\nSponsors\\nLog in\\nRegister\\n\\n\\n\\n\\nMenu      \\n\\n\\n\\n\\nHelp\\nSponsors\\nLog in\\nRegister\\n\\n\\n\\n \\n\\n\\n\\n\\nSearch PyPI\\n\\n\\n\\nSearch\\n\\n\\n\\n\\n\\n\\n\\n\\n        beautifulsoup4 4.12.3\\n      \\n\\n\\npip install beautifulsoup4\\n\\n\\nCopy PIP instructions\\n\\n\\n\\n\\n\\n\\nLatest version\\n\\n\\nReleased: \\n  Jan 17, 2024\\n \\n\\n\\n\\n\\n\\n \\nScreen-scraping library\\n \\n\\n\\n\\n\\n\\n\\n\\nNavigation\\n\\n\\n\\n\\n\\nProject description                \\n\\n\\n\\n\\nRelease history                \\n\\n\\n\\n\\nDownload files                \\n\\n\\n\\n\\n\\n\\nVerified details    \\n\\nThese details have been verified by PyPI\\nMaintainers\\n\\n\\n\\n\\n\\n\\n            leonard\\n          \\n\\n\\n\\n\\nUnverified details\\nThese details have not been verified by PyPI\\nProject links\\n\\n\\n\\nDownload\\n      \\n\\n\\n\\nHomepage\\n      \\n\\n\\n\\nMeta\\n\\n\\n\\nLicense: MIT License (MIT License)\\n      \\n\\n\\n\\nAuthor: Leonard Richardson\\n\\n\\n\\n\\n\\nTags\\n\\n        HTML,      \\n\\n        XML,      \\n\\n        parse,      \\n\\n        soup      \\n\\n\\n\\n\\nRequires: Python >=3.6.0\\n    \\n\\n\\n\\n\\nClassifiers\\n\\n\\nDevelopment Status\\n\\n\\n\\n            5 - Production/Stable\\n          \\n\\n\\n\\n\\nIntended Audience\\n\\n\\n\\n            Developers\\n          \\n\\n\\n\\n\\nLicense\\n\\n\\n\\n            OSI Approved :: MIT License\\n          \\n\\n\\n\\n\\nProgramming Language\\n\\n\\n\\n            Python\\n          \\n\\n\\n\\n            Python :: 3\\n          \\n\\n\\n\\n\\nTopic\\n\\n\\n\\n            Software Development :: Libraries :: Python Modules\\n          \\n\\n\\n\\n            Text Processing :: Markup :: HTML\\n          \\n\\n\\n\\n            Text Processing :: Markup :: SGML\\n          \\n\\n\\n\\n            Text Processing :: Markup :: XML\\n          \\n\\n\\n\\n\\n\\n\\n\\n\\n\\n\\n\\n\\n\\n\\n\\nProject description              \\n\\n\\n\\n\\nProject details              \\n\\n\\n\\n\\nRelease history            \\n\\n\\n\\n\\nDownload files              \\n\\n\\n\\n\\nProject description\\n\\nBeautiful Soup is a library that makes it easy to scrape information\\nfrom web pages. It sits atop an HTML or XML parser, providing Pythonic\\nidioms for iterating, searching, and modifying the parse tree.\\nQuick start\\n>>> from bs4 import BeautifulSoup\\n>>> soup = BeautifulSoup(\"<p>Some<b>bad<i>HTML\")\\n>>> print(soup.prettify())\\n<html>\\n <body>\\n  <p>\\n   Some\\n   <b>\\n    bad\\n    <i>\\n     HTML\\n    </i>\\n   </b>\\n  </p>\\n </body>\\n</html>\\n>>> soup.find(text=\"bad\")\\n\\'bad\\'\\n>>> soup.i\\n<i>HTML</i>\\n#\\n>>> soup = BeautifulSoup(\"<tag1>Some<tag2/>bad<tag3>XML\", \"xml\")\\n#\\n>>> print(soup.prettify())\\n<?xml version=\"1.0\" encoding=\"utf-8\"?>\\n<tag1>\\n Some\\n <tag2/>\\n bad\\n <tag3>\\n  XML\\n </tag3>\\n</tag1>\\n\\nTo go beyond the basics, comprehensive documentation is available.\\nLinks\\n\\nHomepage\\nDocumentation\\nDiscussion group\\nDevelopment\\nBug tracker\\nComplete changelog\\n\\nNote on Python 2 sunsetting\\nBeautiful Soup\\'s support for Python 2 was discontinued on December 31,\\n2020: one year after the sunset date for Python 2 itself. From this\\npoint onward, new Beautiful Soup development will exclusively target\\nPython 3. The final release of Beautiful Soup 4 to support Python 2\\nwas 4.9.3.\\nSupporting the project\\nIf you use Beautiful Soup as part of your professional work, please consider a\\nTidelift subscription.\\nThis will support many of the free software projects your organization\\ndepends on, not just Beautiful Soup.\\nIf you use Beautiful Soup for personal projects, the best way to say\\nthank you is to read\\nTool Safety, a zine I\\nwrote about what Beautiful Soup has taught me about software\\ndevelopment.\\nBuilding the documentation\\nThe bs4/doc/ directory contains full documentation in Sphinx\\nformat. Run make html in that directory to create HTML\\ndocumentation.\\nRunning the unit tests\\nBeautiful Soup supports unit test discovery using Pytest:\\n$ pytest\\n\\n\\n\\n\\nProject details\\n\\n\\nVerified details    \\n\\nThese details have been verified by PyPI\\nMaintainers\\n\\n\\n\\n\\n\\n\\n            leonard\\n          \\n\\n\\n\\n\\nUnverified details\\nThese details have not been verified by PyPI\\nProject links\\n\\n\\n\\nDownload\\n      \\n\\n\\n\\nHomepage\\n      \\n\\n\\n\\nMeta\\n\\n\\n\\nLicense: MIT License (MIT License)\\n      \\n\\n\\n\\nAuthor: Leonard Richardson\\n\\n\\n\\n\\n\\nTags\\n\\n        HTML,      \\n\\n        XML,      \\n\\n        parse,      \\n\\n        soup      \\n\\n\\n\\n\\nRequires: Python >=3.6.0\\n    \\n\\n\\n\\n\\nClassifiers\\n\\n\\nDevelopment Status\\n\\n\\n\\n            5 - Production/Stable\\n          \\n\\n\\n\\n\\nIntended Audience\\n\\n\\n\\n            Developers\\n          \\n\\n\\n\\n\\nLicense\\n\\n\\n\\n            OSI Approved :: MIT License\\n          \\n\\n\\n\\n\\nProgramming Language\\n\\n\\n\\n            Python\\n          \\n\\n\\n\\n            Python :: 3\\n          \\n\\n\\n\\n\\nTopic\\n\\n\\n\\n            Software Development :: Libraries :: Python Modules\\n          \\n\\n\\n\\n            Text Processing :: Markup :: HTML\\n          \\n\\n\\n\\n            Text Processing :: Markup :: SGML\\n          \\n\\n\\n\\n            Text Processing :: Markup :: XML\\n          \\n\\n\\n\\n\\n\\n \\n\\n\\n\\nRelease history\\n\\nRelease notifications |\\n              RSS feed \\n\\n\\n\\n\\n\\n\\n\\n\\n\\n\\n\\n\\n                  4.13.0b2\\n                  \\npre-release                  \\n\\n\\n\\n  Mar 20, 2024\\n\\n\\n\\n\\n\\n\\nThis version\\n\\n\\n\\n\\n\\n\\n\\n                  4.12.3\\n                \\n\\n\\n  Jan 17, 2024\\n\\n\\n\\n\\n\\n\\n\\n\\n\\n\\n\\n\\n\\n                  4.12.2\\n                \\n\\n\\n  Apr 7, 2023\\n\\n\\n\\n\\n\\n\\n\\n\\n\\n\\n\\n\\n\\n                  4.12.1\\n                \\n\\n\\n  Apr 5, 2023\\n\\n\\n\\n\\n\\n\\n\\n\\n\\n\\n\\n\\n\\n                  4.12.0\\n                \\n\\n\\n  Mar 20, 2023\\n\\n\\n\\n\\n\\n\\n\\n\\n\\n\\n\\n\\n\\n                  4.11.2\\n                \\n\\n\\n  Jan 31, 2023\\n\\n\\n\\n\\n\\n\\n\\n\\n\\n\\n\\n\\n\\n                  4.11.1\\n                \\n\\n\\n  Apr 8, 2022\\n\\n\\n\\n\\n\\n\\n\\n\\n\\n\\n\\n\\n\\n                  4.11.0\\n                \\n\\n\\n  Apr 7, 2022\\n\\n\\n\\n\\n\\n\\n\\n\\n\\n\\n\\n\\n\\n                  4.10.0\\n                \\n\\n\\n  Sep 8, 2021\\n\\n\\n\\n\\n\\n\\n\\n\\n\\n\\n\\n\\n\\n                  4.9.3\\n                \\n\\n\\n  Oct 3, 2020\\n\\n\\n\\n\\n\\n\\n\\n\\n\\n\\n\\n\\n\\n                  4.9.2\\n                \\n\\n\\n  Sep 26, 2020\\n\\n\\n\\n\\n\\n\\n\\n\\n\\n\\n\\n\\n\\n                  4.9.1\\n                \\n\\n\\n  May 17, 2020\\n\\n\\n\\n\\n\\n\\n\\n\\n\\n\\n\\n\\n\\n                  4.9.0\\n                \\n\\n\\n  Apr 5, 2020\\n\\n\\n\\n\\n\\n\\n\\n\\n\\n\\n\\n\\n\\n                  4.8.2\\n                \\n\\n\\n  Dec 24, 2019\\n\\n\\n\\n\\n\\n\\n\\n\\n\\n\\n\\n\\n\\n                  4.8.1\\n                \\n\\n\\n  Oct 6, 2019\\n\\n\\n\\n\\n\\n\\n\\n\\n\\n\\n\\n\\n\\n                  4.8.0\\n                \\n\\n\\n  Jul 20, 2019\\n\\n\\n\\n\\n\\n\\n\\n\\n\\n\\n\\n\\n\\n                  4.7.1\\n                \\n\\n\\n  Jan 7, 2019\\n\\n\\n\\n\\n\\n\\n\\n\\n\\n\\n\\n\\n\\n                  4.7.0\\n                \\n\\n\\n  Dec 31, 2018\\n\\n\\n\\n\\n\\n\\n\\n\\n\\n\\n\\n\\n\\n                  4.6.3\\n                \\n\\n\\n  Aug 12, 2018\\n\\n\\n\\n\\n\\n\\n\\n\\n\\n\\n\\n\\n\\n                  4.6.2\\n                \\n\\n\\n  Aug 12, 2018\\n\\n\\n\\n\\n\\n\\n\\n\\n\\n\\n\\n\\n\\n                  4.6.1\\n                \\n\\n\\n  Jul 28, 2018\\n\\n\\n\\n\\n\\n\\n\\n\\n\\n\\n\\n\\n\\n                  4.6.0\\n                \\n\\n\\n  May 7, 2017\\n\\n\\n\\n\\n\\n\\n\\n\\n\\n\\n\\n\\n\\n                  4.5.3\\n                \\n\\n\\n  Jan 2, 2017\\n\\n\\n\\n\\n\\n\\n\\n\\n\\n\\n\\n\\n\\n                  4.5.2\\n                \\n\\n\\n  Jan 2, 2017\\n\\n\\n\\n\\n\\n\\n\\n\\n\\n\\n\\n\\n\\n                  4.5.1\\n                \\n\\n\\n  Aug 3, 2016\\n\\n\\n\\n\\n\\n\\n\\n\\n\\n\\n\\n\\n\\n                  4.5.0\\n                \\n\\n\\n  Jul 20, 2016\\n\\n\\n\\n\\n\\n\\n\\n\\n\\n\\n\\n\\n\\n                  4.4.1\\n                \\n\\n\\n  Sep 29, 2015\\n\\n\\n\\n\\n\\n\\n\\n\\n\\n\\n\\n\\n\\n                  4.4.0\\n                \\n\\n\\n  Jul 3, 2015\\n\\n\\n\\n\\n\\n\\n\\n\\n\\n\\n\\n\\n\\n                  4.3.2\\n                \\n\\n\\n  Oct 2, 2013\\n\\n\\n\\n\\n\\n\\n\\n\\n\\n\\n\\n\\n\\n                  4.3.1\\n                \\n\\n\\n  Jan 21, 2014\\n\\n\\n\\n\\n\\n\\n\\n\\n\\n\\n\\n\\n\\n                  4.3.0\\n                \\n\\n\\n  Jan 21, 2014\\n\\n\\n\\n\\n\\n\\n\\n\\n\\n\\n\\n\\n\\n                  4.2.1\\n                \\n\\n\\n  Jan 21, 2014\\n\\n\\n\\n\\n\\n\\n\\n\\n\\n\\n\\n\\n\\n                  4.2.0\\n                \\n\\n\\n  Jan 21, 2014\\n\\n\\n\\n\\n\\n\\n\\n\\n\\n\\n\\n\\n\\n                  4.1.3\\n                \\n\\n\\n  Jan 21, 2014\\n\\n\\n\\n\\n\\n\\n\\n\\n\\n\\n\\n\\n\\n                  4.1.2\\n                \\n\\n\\n  Jan 21, 2014\\n\\n\\n\\n\\n\\n\\n\\n\\n\\n\\n\\n\\n\\n                  4.1.1\\n                \\n\\n\\n  Jan 21, 2014\\n\\n\\n\\n\\n\\n\\n\\n\\n\\n\\n\\n\\n\\n                  4.1.0\\n                \\n\\n\\n  Jan 21, 2014\\n\\n\\n\\n\\n\\n\\n\\n\\n\\n\\n\\n\\n\\n                  4.0.5\\n                \\n\\n\\n  Jan 21, 2014\\n\\n\\n\\n\\n\\n\\n\\n\\n\\n\\n\\n\\n\\n                  4.0.4\\n                \\n\\n\\n  Jan 21, 2014\\n\\n\\n\\n\\n\\n\\n\\n\\n\\n\\n\\n\\n\\n                  4.0.3\\n                \\n\\n\\n  Jan 21, 2014\\n\\n\\n\\n\\n\\n\\n\\n\\n\\n\\n\\n\\n\\n                  4.0.2\\n                \\n\\n\\n  Jan 21, 2014\\n\\n\\n\\n\\n\\n\\n\\n\\n\\n\\n\\n\\n\\n                  4.0.1\\n                \\n\\n\\n  Jan 21, 2014\\n\\n\\n\\n\\n\\n\\n\\nDownload files\\nDownload the file for your platform. If you\\'re not sure which to choose, learn more about installing packages.\\n\\nSource Distribution            \\n\\n\\n\\n\\n\\n\\n          beautifulsoup4-4.12.3.tar.gz\\n        \\n        (581.2 kB\\n        view hashes)\\n        \\n          Uploaded \\n  Jan 17, 2024\\n\\nSource\\n\\n\\n\\n\\nBuilt Distribution            \\n\\n\\n\\n\\n\\n\\n          beautifulsoup4-4.12.3-py3-none-any.whl\\n        \\n        (147.9 kB\\n        view hashes)\\n        \\n          Uploaded \\n  Jan 17, 2024\\n\\nPython 3\\n\\n\\n\\n\\n\\n\\n\\n\\nClose\\n\\n\\n\\nHashes for beautifulsoup4-4.12.3.tar.gz      \\n\\nHashes for beautifulsoup4-4.12.3.tar.gz\\n\\n\\nAlgorithm\\nHash digest\\n\\n\\n\\n\\n\\nSHA256\\n74e3d1928edc070d21748185c46e3fb33490f22f52a3addee9aee0f4f7781051\\n\\n\\nCopy              \\n\\n\\n\\nMD5\\n4ecf1fb561e84adfb3146650e3d51394\\n\\n\\nCopy              \\n\\n\\n\\nBLAKE2b-256\\nb3ca824b1195773ce6166d388573fc106ce56d4a805bd7427b624e063596ec58\\n\\n\\nCopy              \\n\\n\\n\\n\\n\\n\\nClose\\n\\n\\n\\n\\n\\n\\nClose\\n\\n\\n\\nHashes for beautifulsoup4-4.12.3-py3-none-any.whl      \\n\\nHashes for beautifulsoup4-4.12.3-py3-none-any.whl\\n\\n\\nAlgorithm\\nHash digest\\n\\n\\n\\n\\n\\nSHA256\\nb80878c9f40111313e55da8ba20bdba06d8fa3969fc68304167741bbf9e082ed\\n\\n\\nCopy              \\n\\n\\n\\nMD5\\n47df28fd656b4a8df368d9a915794454\\n\\n\\nCopy              \\n\\n\\n\\nBLAKE2b-256\\nb1fee8c672695b37eecc5cbf43e1d0638d88d66ba3a44c4d321c796f4e59167f\\n\\n\\nCopy              \\n\\n\\n\\n\\n\\n\\nClose\\n\\n\\n\\n\\n\\n\\n\\n\\n\\n\\n\\n\\n\\n\\nHelp\\n\\n\\nInstalling packages\\nUploading packages\\nUser guide\\nProject name retention\\nFAQs\\n\\n\\n\\n\\nAbout PyPI\\n\\n\\nPyPI Blog\\nInfrastructure dashboard\\nStatistics\\nLogos & trademarks\\nOur sponsors\\n\\n\\n\\n\\nContributing to PyPI\\n\\n\\nBugs and feedback\\nContribute on GitHub\\nTranslate PyPI\\nSponsor PyPI\\nDevelopment credits\\n\\n\\n\\n\\nUsing PyPI\\n\\n\\nCode of conduct\\nReport security issue\\nPrivacy Notice\\nTerms of Use\\nAcceptable Use Policy\\n\\n\\n\\n\\n\\n\\nStatus:\\nall systems operational\\n\\n\\nDeveloped and maintained by the Python community, for the Python community.          \\nDonate today!\\n\\n\\n          \"PyPI\", \"Python Package Index\", and the blocks logos are registered trademarks of the Python Software Foundation.\\n\\n\\n          © 2024 Python Software Foundation\\nSite map\\n\\n\\n\\n\\nSwitch to desktop version        \\n\\n\\n\\n\\n\\n\\n\\n              English\\n            \\n\\n\\n\\n              español\\n            \\n\\n\\n\\n              français\\n            \\n\\n\\n\\n              日本語\\n            \\n\\n\\n\\n              português (Brasil)\\n            \\n\\n\\n\\n              українська\\n            \\n\\n\\n\\n              Ελληνικά\\n            \\n\\n\\n\\n              Deutsch\\n            \\n\\n\\n\\n              中文 (简体)\\n            \\n\\n\\n\\n              中文 (繁體)\\n            \\n\\n\\n\\n              русский\\n            \\n\\n\\n\\n              עברית\\n            \\n\\n\\n\\n              Esperanto\\n            \\n\\n\\n\\n\\n\\nSupported by\\n\\n\\n\\nAWS\\n\\n            Cloud computing and Security Sponsor\\n          \\n\\n\\n\\nDatadog\\n\\n            Monitoring\\n          \\n\\n\\n\\nFastly\\n\\n            CDN\\n          \\n\\n\\n\\nGoogle\\n\\n            Download Analytics\\n          \\n\\n\\n\\nMicrosoft\\n\\n            PSF Sponsor\\n          \\n\\n\\n\\nPingdom\\n\\n            Monitoring\\n          \\n\\n\\n\\nSentry\\n\\n            Error logging\\n          \\n\\n\\n\\nStatusPage\\n\\n            Status page\\n          \\n\\n\\n\\n')]"
      ]
     },
     "execution_count": 30,
     "metadata": {},
     "output_type": "execute_result"
    }
   ],
   "source": [
    "results"
   ]
  },
  {
   "cell_type": "code",
   "execution_count": 31,
   "metadata": {},
   "outputs": [],
   "source": [
    "summarization=chain.invoke({\"context\": results})"
   ]
  },
  {
   "cell_type": "code",
   "execution_count": 32,
   "metadata": {},
   "outputs": [
    {
     "data": {
      "text/plain": [
       "\"Beautiful Soup is a Python library that allows for easy web scraping by providing Pythonic idioms for iterating, searching, and modifying HTML or XML parse trees. It has reached production/stable status and requires Python 3.6.0 or higher. The library's support for Python 2 was discontinued on December 31, 2020. The latest version is 4.12.3, released on Jan 17, 2024. It is licensed under the MIT License and maintained by Leonard Richardson.\""
      ]
     },
     "execution_count": 32,
     "metadata": {},
     "output_type": "execute_result"
    }
   ],
   "source": [
    "summarization"
   ]
  },
  {
   "cell_type": "code",
   "execution_count": 23,
   "metadata": {},
   "outputs": [
    {
     "data": {
      "text/plain": [
       "<generator object RunnableSequence.stream at 0x00000209AB624CF0>"
      ]
     },
     "execution_count": 23,
     "metadata": {},
     "output_type": "execute_result"
    }
   ],
   "source": [
    "context_length= 16385"
   ]
  },
  {
   "cell_type": "code",
   "execution_count": 34,
   "metadata": {},
   "outputs": [
    {
     "data": {
      "text/plain": [
       "2598"
      ]
     },
     "execution_count": 34,
     "metadata": {},
     "output_type": "execute_result"
    }
   ],
   "source": [
    "llm.get_num_tokens(results[0].page_content)"
   ]
  },
  {
   "cell_type": "code",
   "execution_count": 48,
   "metadata": {},
   "outputs": [],
   "source": [
    "def token_length(text: str) -> int:\n",
    "    encoding=tiktoken.get_encoding(encoding_name=\"cl100k_base\")\n",
    "    len_tokens=len(encoding.encode(text))\n",
    "    return len_tokens"
   ]
  },
  {
   "cell_type": "code",
   "execution_count": 49,
   "metadata": {},
   "outputs": [],
   "source": [
    "def sumarize(url):\n",
    "    context_length= 5000\n",
    "    # Retrive the document from URL\n",
    "    docs_obj=loader(url)\n",
    "    # Check the Number of the tokens\n",
    "    tokens=token_length(docs_obj[0].page_content)\n",
    "    if tokens < context_length:\n",
    "        summarized=chain.invoke({\"context\":docs_obj})\n",
    "    else: \n",
    "        raise ValueError(\"Content is beyond the limit.\")\n",
    "    return summarized\n"
   ]
  },
  {
   "cell_type": "code",
   "execution_count": 50,
   "metadata": {},
   "outputs": [],
   "source": [
    "summarized=sumarize(\"https://pypi.org/project/beautifulsoup4/\")"
   ]
  },
  {
   "cell_type": "code",
   "execution_count": 53,
   "metadata": {},
   "outputs": [
    {
     "ename": "ValueError",
     "evalue": "Content is beyond the limit.",
     "output_type": "error",
     "traceback": [
      "\u001b[1;31m---------------------------------------------------------------------------\u001b[0m",
      "\u001b[1;31mValueError\u001b[0m                                Traceback (most recent call last)",
      "Cell \u001b[1;32mIn[53], line 1\u001b[0m\n\u001b[1;32m----> 1\u001b[0m summarized\u001b[38;5;241m=\u001b[39m\u001b[43msumarize\u001b[49m\u001b[43m(\u001b[49m\u001b[38;5;124;43m\"\u001b[39;49m\u001b[38;5;124;43mhttps://en.wikipedia.org/wiki/Donald_Trump\u001b[39;49m\u001b[38;5;124;43m\"\u001b[39;49m\u001b[43m)\u001b[49m\n",
      "Cell \u001b[1;32mIn[49], line 10\u001b[0m, in \u001b[0;36msumarize\u001b[1;34m(url)\u001b[0m\n\u001b[0;32m      8\u001b[0m     summarized\u001b[38;5;241m=\u001b[39mchain\u001b[38;5;241m.\u001b[39minvoke({\u001b[38;5;124m\"\u001b[39m\u001b[38;5;124mcontext\u001b[39m\u001b[38;5;124m\"\u001b[39m:docs_obj})\n\u001b[0;32m      9\u001b[0m \u001b[38;5;28;01melse\u001b[39;00m: \n\u001b[1;32m---> 10\u001b[0m     \u001b[38;5;28;01mraise\u001b[39;00m \u001b[38;5;167;01mValueError\u001b[39;00m(\u001b[38;5;124m\"\u001b[39m\u001b[38;5;124mContent is beyond the limit.\u001b[39m\u001b[38;5;124m\"\u001b[39m)\n\u001b[0;32m     11\u001b[0m \u001b[38;5;28;01mreturn\u001b[39;00m summarized\n",
      "\u001b[1;31mValueError\u001b[0m: Content is beyond the limit."
     ]
    }
   ],
   "source": [
    "summarized=sumarize(\"https://en.wikipedia.org/wiki/Donald_Trump\")"
   ]
  },
  {
   "cell_type": "code",
   "execution_count": 2,
   "metadata": {},
   "outputs": [
    {
     "name": "stdout",
     "output_type": "stream",
     "text": [
      "https\n",
      "en.wikipedia.org\n"
     ]
    }
   ],
   "source": [
    "from urllib.parse import urlparse\n",
    "result=urlparse(\"https://en.wikipedia.org/wiki/Donald_Trump\")\n",
    "print(result.scheme)\n",
    "print(result.netloc)\n"
   ]
  },
  {
   "cell_type": "code",
   "execution_count": 4,
   "metadata": {},
   "outputs": [
    {
     "name": "stdout",
     "output_type": "stream",
     "text": [
      "\n",
      "\n"
     ]
    }
   ],
   "source": [
    "from urllib.parse import urlparse\n",
    "result=urlparse(\"Trump is a great man\")\n",
    "print(result.scheme)\n",
    "print(result.netloc)"
   ]
  }
 ],
 "metadata": {
  "kernelspec": {
   "display_name": "Python 3",
   "language": "python",
   "name": "python3"
  },
  "language_info": {
   "codemirror_mode": {
    "name": "ipython",
    "version": 3
   },
   "file_extension": ".py",
   "mimetype": "text/x-python",
   "name": "python",
   "nbconvert_exporter": "python",
   "pygments_lexer": "ipython3",
   "version": "3.10.15"
  }
 },
 "nbformat": 4,
 "nbformat_minor": 2
}
